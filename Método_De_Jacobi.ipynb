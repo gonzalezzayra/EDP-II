{
  "nbformat": 4,
  "nbformat_minor": 0,
  "metadata": {
    "colab": {
      "provenance": [],
      "authorship_tag": "ABX9TyMNkxNaS/K2O+3PUDnN2Njv",
      "include_colab_link": true
    },
    "kernelspec": {
      "name": "python3",
      "display_name": "Python 3"
    },
    "language_info": {
      "name": "python"
    }
  },
  "cells": [
    {
      "cell_type": "markdown",
      "metadata": {
        "id": "view-in-github",
        "colab_type": "text"
      },
      "source": [
        "<a href=\"https://colab.research.google.com/github/gonzalezzayra/EDP-II/blob/main/M%C3%A9todo_De_Jacobi.ipynb\" target=\"_parent\"><img src=\"https://colab.research.google.com/assets/colab-badge.svg\" alt=\"Open In Colab\"/></a>"
      ]
    },
    {
      "cell_type": "markdown",
      "source": [
        "**Método de Jacobi**"
      ],
      "metadata": {
        "id": "f9q4V_7X-xVB"
      }
    },
    {
      "cell_type": "markdown",
      "source": [
        "Sea el sistema de ecuaciones lineales $A\\vec{x} =b$, donde $A$ es la matriz de coeficiente, $\\vec{x}$ es el vector de incógnitas y $b$ es la matriz de términos independientes\n",
        "\n",
        "$$A \\vec{x} = b$$\n",
        "\n",
        "$A$ es la matriz de coeficientes $a_{ij}$\n",
        "\n",
        "$\\vec{x}$ es el vector de incógnitas\n",
        "\n",
        "$b$ es la matriz de términos independientes $b_i$\n",
        "\n"
      ],
      "metadata": {
        "id": "YEHO_SevQ7jD"
      }
    },
    {
      "cell_type": "markdown",
      "source": [
        "Basandonos en el algoritmo:\n",
        "\n",
        "Entrada:\n",
        "\n",
        "\n",
        "*   Número de ecuaciones\n",
        "*   Número de valores deconocidos\n",
        "*   Entradas de $a_{ij}$ de la matriz\n",
        "*   Entradas de $b_i$ de la matriz\n",
        "*   Entradas de $X_i$ de $X = X^{0}$\n",
        "*   Valor de la Tolerancia\n",
        "*   Número máximo de iteraciones\n",
        "\n",
        "Salida:\n",
        "*   Solución aproximada\n",
        "\n",
        "$$x_1, x_2, ..., x_n$$\n",
        "\n",
        "*   Algún mensaje que indique que se excedió el número de interaciones\n",
        "\n",
        "\n",
        "\n",
        "\n"
      ],
      "metadata": {
        "id": "soDvRXXlR5tu"
      }
    },
    {
      "cell_type": "markdown",
      "source": [
        "Tomando en cuenta el ejercicio de la lista del problemario, que fue resulto en clase."
      ],
      "metadata": {
        "id": "0rE_8yLZxx7X"
      }
    },
    {
      "cell_type": "markdown",
      "source": [
        "En forma matricial: $A\\vec{x} =b$, donde\n",
        "\n",
        "$$A=\n",
        "\\begin{pmatrix}\n",
        "4 & -1 & -1 & 0 \\\\\n",
        "-1 & 4 & 0 & -1 \\\\\n",
        "-1 & 0 & 4 & -1 \\\\\n",
        "0 & -1 & -1 & 4\n",
        "\\end{pmatrix}\n",
        "$$\n",
        "\n",
        "---"
      ],
      "metadata": {
        "id": "K3uysWaHS8CU"
      }
    },
    {
      "cell_type": "code",
      "source": [
        "#Importar librerias\n",
        "import pandas as pd #Para la tabla\n",
        "import numpy as np #Por costumbre"
      ],
      "metadata": {
        "id": "yA3J1NRIQr43"
      },
      "execution_count": 13,
      "outputs": []
    },
    {
      "cell_type": "markdown",
      "source": [
        "---\n",
        "Paso 1. Determine $k=1$\n",
        "\n",
        "Definimos la matriz $A$ y $b$, así como $X^{0}$ que es el promedio de los valores de la frontera.\n",
        "\n",
        "---"
      ],
      "metadata": {
        "id": "aqfYFbYvTE0v"
      }
    },
    {
      "cell_type": "code",
      "source": [
        "#Definir la matriz A, aij\n",
        "A = [[4, -1, -1, 0],\n",
        "     [-1, 4, 0, -1],\n",
        "     [-1, 0, 4, -1],\n",
        "     [0, -1, -1, 4]]\n",
        "\n",
        "#Definir la matriz b, bi\n",
        "b = [0, 2/3, 8/9, 14/9]\n",
        "\n",
        "#Definir X^0, que es el promedio de los valores en la frontera\n",
        "x0 = [7/27, 7/27, 7/27, 7/27]\n",
        "tol = 0.000001  #Valor de tolerancia, que fue propuesto\n",
        "m_int = 100  #Número máximo de intentos propuesto\n",
        "n = len(b)  #Número de ecuaciones que tiene el sistema o el número de términos independientes\n",
        "\n",
        "#Se utiliza copy para copiar a x0 y se le asigna a x\n",
        "x = x0.copy()\n",
        "print(\"El valor de X^0:\",x)\n",
        "iteraciones = 1 #Esta sería nuestra k=1\n",
        "\n",
        "\n",
        "#Lista para ir guardando los resultados, para después con el DataFrame\n",
        "resultados = []\n",
        "#Se adjunta a los valores de X^0, y se redondean a 5 digitos\n",
        "resultados.append({\"Iteraciones\": iteraciones, \"x1\": round(x[0], 5), \"x2\": round(x[1], 5), \"x3\": round(x[2], 5), \"x4\": round(x[3], 5)})\n",
        "#Ocupamos print para ver como es que se redondeo los valores\n",
        "print(resultados)"
      ],
      "metadata": {
        "colab": {
          "base_uri": "https://localhost:8080/"
        },
        "id": "H0uz2cAcU3vs",
        "outputId": "085b2a1d-2f81-400e-d8d3-fd3d265c0ec0"
      },
      "execution_count": 14,
      "outputs": [
        {
          "output_type": "stream",
          "name": "stdout",
          "text": [
            "El valor de X^0: [0.25925925925925924, 0.25925925925925924, 0.25925925925925924, 0.25925925925925924]\n",
            "[{'Iteraciones': 1, 'x1': 0.25926, 'x2': 0.25926, 'x3': 0.25926, 'x4': 0.25926}]\n"
          ]
        }
      ]
    },
    {
      "cell_type": "markdown",
      "source": [
        "---\n",
        "Paso 2. Mientras $k \\leq \\text{máx. número de interaciones}$\n",
        "\n",
        "Paso 3. Para $i= 1,...,n$\n",
        "Calcular\n",
        "\n",
        "$$X_i = \\frac{1}{a_{ii}} \\left[  - \\sum_{j \\neq i, j =1 }^{n}  (a_{ij} X_{j}) + b_i\\right]$$\n"
      ],
      "metadata": {
        "id": "n0fmYGyVT-tn"
      }
    },
    {
      "cell_type": "markdown",
      "source": [
        "Paso 4. Si\n",
        "$$\n",
        "\\|X - X^0\\| <\\text {valor de tolerancia}\n",
        "$$\n",
        "\n",
        "$$\n",
        "\\|X - X^0\\| = \\sqrt{ \\sum_{i=1}^{n} \\big( x^{(k+1)}_i - x^{(k)}_i \\big)^2 }\n",
        "$$\n",
        "\n",
        "entonces la salida es:\n",
        "\n",
        "$$\n",
        "(x_1, ... , x_n)\n",
        "$$\n",
        "\n",
        "**Por lo tanto, el procedimiento fue exitoso**"
      ],
      "metadata": {
        "id": "y1gMGEr5che3"
      }
    },
    {
      "cell_type": "markdown",
      "source": [
        "---\n",
        "Paso 5. Determine $k = k+1$\n",
        "\n",
        "Paso 6. Para $i = 1,..., n$ determine\n",
        "\n",
        "$$\n",
        "X_i = X\n",
        "$$\n",
        "\n",
        "Paso 7. La salida es\n",
        "\n",
        "\"Número máximo de iteraciones excedido\" (esto fue cambiado)\n",
        "\n",
        "**Por lo tanto, el procedimiento no fue exitoso**\n",
        "\n",
        "---"
      ],
      "metadata": {
        "id": "n-h8XHB4Vq8w"
      }
    },
    {
      "cell_type": "code",
      "source": [
        "#Como nos indicaba el algoritmo, hacer un ciclo while\n",
        "#Mientras el # de iteraciones sea menor e igual al # máx de iteraciones\n",
        "while iteraciones <= m_int:\n",
        "    #Se repite, se copia x y se asigna a x nuevo\n",
        "    x_nuevo = x.copy()\n",
        "\n",
        "    #Ciclo for para i, n como len(b)\n",
        "    for i in range(n):\n",
        "        #Se inicializa el contador suma, que se ocupa más adelante\n",
        "        suma = 0\n",
        "        #Ciclo for para j, que es para la sumatoria\n",
        "        for j in range(n):\n",
        "            #Se necesita que j sea diferente de i, es por eso que se ocupa if\n",
        "            if j != i:\n",
        "                suma += A[i][j] * x[j] #A es aij y x es j, son los sub indices\n",
        "        x_nuevo[i] = (b[i] - suma) / A[i][i]  #Determinar xi = [1/aij] * [bi - suma]\n",
        "\n",
        "    #Calcular norma\n",
        "    norma = sum((x_nuevo[i] - x[i])**2 for i in range(n)) ** 0.5\n",
        "\n",
        "    #Esto es para que se guarde la iteración\n",
        "    iteraciones += 1\n",
        "    resultados.append({\n",
        "        \"Iteraciones\": iteraciones,\n",
        "        \"x1\": round(x_nuevo[0], 5),\n",
        "        \"x2\": round(x_nuevo[1], 5),\n",
        "        \"x3\": round(x_nuevo[2], 5),\n",
        "        \"x4\": round(x_nuevo[3], 5)\n",
        "    })\n",
        "\n",
        "    #Si la norma de es menor que el valor de la tolerancia\n",
        "    if norma < tol:\n",
        "        print(\"El procedimiento fue exitoso\")\n",
        "        print(\"Solución:\", [round(val, 5) for val in x_nuevo])\n",
        "        print(\"Número de iteraciones totales:\", iteraciones)\n",
        "        break\n",
        "    #Copiar el valor de x_nuevo y asignar a x\n",
        "    x = x_nuevo.copy()\n",
        "\n",
        "#--- Cuando no es exitoso---\n",
        "else:\n",
        "    print(\"El procedimiento no fue exitoso\")\n",
        "    print(\"Solución aproximada:\", [round(val, 5) for val in x])\n",
        "    print(\"Número de iteraciones totales:\", iteraciones)\n",
        "\n",
        "#Con el uso de pandas\n",
        "#Con DataFrame\n",
        "df = pd.DataFrame(resultados)\n",
        "print(\"\\nMétodo de Jacobi:\")\n",
        "print(df.to_string(index=False))"
      ],
      "metadata": {
        "colab": {
          "base_uri": "https://localhost:8080/"
        },
        "id": "lVOZoPf1Xwtn",
        "outputId": "bdc221ed-c09a-4d1f-95d4-3b737c170daf"
      },
      "execution_count": 15,
      "outputs": [
        {
          "output_type": "stream",
          "name": "stdout",
          "text": [
            "El procedimiento fue exitoso\n",
            "Solución: [0.19444, 0.36111, 0.41667, 0.58333]\n",
            "Número de iteraciones totales: 19\n",
            "\n",
            "Método de Jacobi:\n",
            " Iteraciones      x1      x2      x3      x4\n",
            "           1 0.25926 0.25926 0.25926 0.25926\n",
            "           2 0.12963 0.29630 0.35185 0.51852\n",
            "           3 0.16204 0.32870 0.38426 0.55093\n",
            "           4 0.17824 0.34491 0.40046 0.56713\n",
            "           5 0.18634 0.35301 0.40856 0.57523\n",
            "           6 0.19039 0.35706 0.41262 0.57928\n",
            "           7 0.19242 0.35909 0.41464 0.58131\n",
            "           8 0.19343 0.36010 0.41565 0.58232\n",
            "           9 0.19394 0.36060 0.41616 0.58283\n",
            "          10 0.19419 0.36086 0.41641 0.58308\n",
            "          11 0.19432 0.36098 0.41654 0.58321\n",
            "          12 0.19438 0.36105 0.41660 0.58327\n",
            "          13 0.19441 0.36108 0.41664 0.58330\n",
            "          14 0.19443 0.36110 0.41665 0.58332\n",
            "          15 0.19444 0.36110 0.41666 0.58333\n",
            "          16 0.19444 0.36111 0.41666 0.58333\n",
            "          17 0.19444 0.36111 0.41666 0.58333\n",
            "          18 0.19444 0.36111 0.41667 0.58333\n",
            "          19 0.19444 0.36111 0.41667 0.58333\n"
          ]
        }
      ]
    }
  ]
}