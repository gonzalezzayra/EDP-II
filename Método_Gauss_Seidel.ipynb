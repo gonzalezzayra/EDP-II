{
  "nbformat": 4,
  "nbformat_minor": 0,
  "metadata": {
    "colab": {
      "provenance": [],
      "authorship_tag": "ABX9TyMVU3EdlT/1CBb/SusUFaMa",
      "include_colab_link": true
    },
    "kernelspec": {
      "name": "python3",
      "display_name": "Python 3"
    },
    "language_info": {
      "name": "python"
    }
  },
  "cells": [
    {
      "cell_type": "markdown",
      "metadata": {
        "id": "view-in-github",
        "colab_type": "text"
      },
      "source": [
        "<a href=\"https://colab.research.google.com/github/gonzalezzayra/EDP-II/blob/main/M%C3%A9todo_Gauss_Seidel.ipynb\" target=\"_parent\"><img src=\"https://colab.research.google.com/assets/colab-badge.svg\" alt=\"Open In Colab\"/></a>"
      ]
    },
    {
      "cell_type": "markdown",
      "source": [
        "**Método de Gauss-Seidel**"
      ],
      "metadata": {
        "id": "rgQRq2QF1lJI"
      }
    },
    {
      "cell_type": "markdown",
      "source": [
        "Este método **es una versión acelerada de Jacobi**. En el cual es necesario contar con un vector aproximado completo para proceder a la sustitución en la ecuaciones de recurrencia y obtener una nueva aproximación."
      ],
      "metadata": {
        "id": "vvyrLVQuY17D"
      }
    },
    {
      "cell_type": "markdown",
      "source": [
        "Se porpone ir sustituyendo los nuevos valores de la aproximación siguiente conforme se vayan obteniendo sin esperar a tener un vector completo. De este modo se acelera la convergencia."
      ],
      "metadata": {
        "id": "MJu1Ux6uZGsk"
      }
    },
    {
      "cell_type": "markdown",
      "source": [
        "Las ecuaciones de recurrencia del método de Jacobi:\n",
        "\n",
        "$$\n",
        "x_{n}^{(k+1)} = \\frac{ b_{n} - ( a_{n1} x_2^{(k+1)} +  a_{n2} x_3^{(k+1)} + ... +  a_{nn} x_{n-1}^{(k+1)} )}{a_{nn}}\n",
        "$$"
      ],
      "metadata": {
        "id": "M1r5r1CmZcF5"
      }
    },
    {
      "cell_type": "code",
      "source": [
        "#Importar libreria para realizar la tabla\n",
        "import pandas as pd"
      ],
      "metadata": {
        "id": "xotV_uah3ONO"
      },
      "execution_count": 29,
      "outputs": []
    },
    {
      "cell_type": "markdown",
      "source": [
        "---\n",
        "Para resolver $A \\vec{x} = b$ dada una aproximación inicial $X^{0}$:\n",
        "\n",
        "Los valores que no tiene que dar en la ENTRADA:\n",
        "\n",
        "*   Número de ecuaciones\n",
        "*   Valores desconocidos n\n",
        "*   Entradas $a_{ij}$ de la matriz A\n",
        "*   Entradas $b_{i}$\n",
        "*   Entradas  de $X_i$ de $X = X^{0}$\n",
        "*   Número máximo de iteraciones\n",
        "---"
      ],
      "metadata": {
        "id": "15Fk7nC0EIQW"
      }
    },
    {
      "cell_type": "code",
      "source": [
        "#Definir la matriz A, aij\n",
        "A = [[-4, 1, 0, 1, 0, 0, 0, 0, 0 ], #\n",
        "     [1, -4, 1, 0, 1, 0, 0, 0, 0 ], #\n",
        "     [0, 1, -4, 0, 0, 1, 0, 0, 0 ], #\n",
        "     [1, 0, 0, -4, 1, 0, 1, 0, 0 ], #\n",
        "     [0, 1, 0, 1, -4, 1, 0, 1, 0 ], #\n",
        "     [0, 0, 1, 0, 1, -4, 0, 0, 1 ], #\n",
        "     [0, 0, 0, 1, 0, 0, -4, 1, 0 ], #\n",
        "     [0, 0, 0, 0, 1, 0, 1, -4, 1 ], #\n",
        "     [0, 0, 0, 0, 0, 1, 0, 1, -4]] #\n",
        "\n",
        "#Definir la matriz b, bi\n",
        "b = [0, 0, -1/2, 0, 0, -1, -3/4, -1, -5/4]"
      ],
      "metadata": {
        "id": "v1RvKkvk4hn9"
      },
      "execution_count": 30,
      "outputs": []
    },
    {
      "cell_type": "code",
      "source": [
        "#Definir X^0\n",
        "x0 = [21/64, 21/64, 21/64, 21/64, 21/64, 21/64, 21/64, 21/64, 21/64]\n",
        "tol = 0.000001 #Valor de la tolerancia\n",
        "m_int = 100 #Número máximo de interaciones\n",
        "n = len(b) #Se cuenta el número de términos independientes\n",
        "\n",
        "#Se utiliza copy para copiar el valor de x0 y se le asigna ese valor\n",
        "x = x0.copy()\n",
        "print(\"El valor de X^0:\", x) #Solo para comprobar\n",
        "\n",
        "#Empezamos con k=1\n",
        "iteraciones = 1\n",
        "\n",
        "#Guardar resultados\n",
        "#Lista para guardar los resultados\n",
        "resultados = []\n",
        "#Se adjuntan los valores de la iteraciones y se redondean a 5 unidades después del punto\n",
        "resultados.append({\"Iteraciones\": iteraciones,\n",
        "                   \"x1\": round(x[0], 5),\n",
        "                   \"x2\": round(x[1], 5),\n",
        "                   \"x3\": round(x[2], 5),\n",
        "                   \"x4\": round(x[3], 5),\n",
        "                   \"x5\": round(x[4], 5),\n",
        "                   \"x6\": round(x[5], 5),\n",
        "                   \"x7\": round(x[6], 5),\n",
        "                   \"x8\": round(x[7], 5),\n",
        "                   \"x9\": round(x[8], 5)}\n",
        "                  )\n",
        "\n",
        "#Aquí no ha cambiado nada en comparación con el método de Jacobi"
      ],
      "metadata": {
        "colab": {
          "base_uri": "https://localhost:8080/"
        },
        "id": "uRf-gL65cJFK",
        "outputId": "8e41809e-9073-45d4-dae7-128232c25f1d"
      },
      "execution_count": 31,
      "outputs": [
        {
          "output_type": "stream",
          "name": "stdout",
          "text": [
            "El valor de X^0: [0.328125, 0.328125, 0.328125, 0.328125, 0.328125, 0.328125, 0.328125, 0.328125, 0.328125]\n"
          ]
        }
      ]
    },
    {
      "cell_type": "code",
      "execution_count": 32,
      "metadata": {
        "colab": {
          "base_uri": "https://localhost:8080/"
        },
        "id": "K5Tc05s90uJK",
        "outputId": "689c7dad-c44c-420c-e170-0e683dd6424a"
      },
      "outputs": [
        {
          "output_type": "stream",
          "name": "stdout",
          "text": [
            "Fue exitoso\n",
            "Solución: [0.10937, 0.20982, 0.32366, 0.22768, 0.40625, 0.58482, 0.39509, 0.60268, 0.60937]\n",
            "Número de iteraciones totales: 21\n",
            "\n",
            "Método de Gauss-Seidel:\n",
            " Iteraciones      x1      x2      x3      x4      x5      x6      x7      x8      x9\n",
            "           1 0.32812 0.32812 0.32812 0.32812 0.32812 0.32812 0.32812 0.32812 0.32812\n",
            "           2 0.16406 0.20508 0.25830 0.20508 0.26660 0.46326 0.32080 0.47888 0.54803\n",
            "           3 0.10254 0.15686 0.28003 0.17249 0.31787 0.53648 0.35034 0.55406 0.58514\n",
            "           4 0.08234 0.17006 0.30164 0.18764 0.36206 0.56221 0.37292 0.58003 0.59806\n",
            "           5 0.08942 0.18828 0.31262 0.20610 0.38416 0.57371 0.38403 0.59156 0.60382\n",
            "           6 0.09860 0.19884 0.31814 0.21670 0.39520 0.57929 0.38956 0.59715 0.60661\n",
            "           7 0.10388 0.20431 0.32090 0.22216 0.40073 0.58206 0.39233 0.59992 0.60799\n",
            "           8 0.10662 0.20706 0.32228 0.22492 0.40349 0.58344 0.39371 0.60130 0.60868\n",
            "           9 0.10799 0.20844 0.32297 0.22630 0.40487 0.58413 0.39440 0.60199 0.60903\n",
            "          10 0.10868 0.20913 0.32332 0.22699 0.40556 0.58448 0.39474 0.60233 0.60920\n",
            "          11 0.10903 0.20948 0.32349 0.22733 0.40590 0.58465 0.39492 0.60251 0.60929\n",
            "          12 0.10920 0.20965 0.32357 0.22751 0.40608 0.58474 0.39500 0.60259 0.60933\n",
            "          13 0.10929 0.20974 0.32362 0.22759 0.40616 0.58478 0.39505 0.60264 0.60935\n",
            "          14 0.10933 0.20978 0.32364 0.22764 0.40621 0.58480 0.39507 0.60266 0.60936\n",
            "          15 0.10935 0.20980 0.32365 0.22766 0.40623 0.58481 0.39508 0.60267 0.60937\n",
            "          16 0.10936 0.20981 0.32366 0.22767 0.40624 0.58482 0.39508 0.60267 0.60937\n",
            "          17 0.10937 0.20982 0.32366 0.22767 0.40624 0.58482 0.39509 0.60268 0.60937\n",
            "          18 0.10937 0.20982 0.32366 0.22768 0.40625 0.58482 0.39509 0.60268 0.60937\n",
            "          19 0.10937 0.20982 0.32366 0.22768 0.40625 0.58482 0.39509 0.60268 0.60937\n",
            "          20 0.10937 0.20982 0.32366 0.22768 0.40625 0.58482 0.39509 0.60268 0.60937\n",
            "          21 0.10937 0.20982 0.32366 0.22768 0.40625 0.58482 0.39509 0.60268 0.60937\n"
          ]
        }
      ],
      "source": [
        "#Ciclo while\n",
        "#Mientras el # de iteraciones sea menor e igual que el número máximo de iteraciones\n",
        "while iteraciones <= m_int:\n",
        "    x_nuevo = x.copy() #Se copia x y se le asigna el valor a x_nuevo\n",
        "    #Ciclo for\n",
        "    for i in range(n):\n",
        "        suma = 0 #Se inicializa el contador\n",
        "        #Ciclo for para j\n",
        "        for j in range(n):\n",
        "            if j != i: #Si j es diferente de i entonces\n",
        "                #Se realizan las sumatorias\n",
        "                suma += A[i][j] * (x_nuevo[j] if j < i else x[j])\n",
        "        x_nuevo[i] = (b[i] - suma) / A[i][i] #Se hace el calculo de X_i\n",
        "        #X_i = [1/aii] * [bi -sumas ]\n",
        "\n",
        "    #Calcular norma\n",
        "    norma = sum((x_nuevo[i] - x[i])**2 for i in range(n)) ** 0.5\n",
        "\n",
        "    #Guardar la iteración\n",
        "    iteraciones += 1\n",
        "    resultados.append({\"Iteraciones\": iteraciones,\n",
        "                       \"x1\": round(x_nuevo[0], 5),\n",
        "                       \"x2\": round(x_nuevo[1], 5),\n",
        "                       \"x3\": round(x_nuevo[2], 5),\n",
        "                       \"x4\": round(x_nuevo[3], 5),\n",
        "                       \"x5\": round(x_nuevo[4], 5),\n",
        "                       \"x6\": round(x_nuevo[5], 5),\n",
        "                       \"x7\": round(x_nuevo[6], 5),\n",
        "                       \"x8\": round(x_nuevo[7], 5),\n",
        "                       \"x9\": round(x_nuevo[8], 5)})\n",
        "\n",
        "    #Si la norma es menor que el valor de tolerancia\n",
        "    if norma < tol:\n",
        "        print(\"Fue exitoso\")\n",
        "        print(\"Solución:\", [round(val, 5) for val in x_nuevo])\n",
        "        print(\"Número de iteraciones totales:\", iteraciones)\n",
        "        break\n",
        "    #Copiar el valor de x_nuevo y asignar a x\n",
        "    x = x_nuevo.copy()\n",
        "\n",
        "#---Cuando no es exitoso---\n",
        "else:\n",
        "    print(\"No fue exitoso\")\n",
        "    print(\"Solución aproximada:\", [round(val, 5) for val in x])\n",
        "    print(\"Número de iteraciones totales:\", iteraciones)\n",
        "\n",
        "#Tabla, con el uso de pandas\n",
        "df = pd.DataFrame(resultados)\n",
        "print(\"\\nMétodo de Gauss-Seidel:\")\n",
        "print(df.to_string(index=False))\n"
      ]
    },
    {
      "cell_type": "markdown",
      "source": [
        "El método de Jacobi es un antecedente del método de Gauss-Seidel, mismo que lo mejora de forma notable al acelerar su convergencia."
      ],
      "metadata": {
        "id": "1RfIDY_1af-4"
      }
    }
  ]
}